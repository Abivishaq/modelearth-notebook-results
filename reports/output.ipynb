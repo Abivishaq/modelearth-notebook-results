{
 "cells": [
  {
   "cell_type": "code",
   "execution_count": 1,
   "id": "a8b3b691",
   "metadata": {
    "execution": {
     "iopub.execute_input": "2025-06-13T00:06:39.291785Z",
     "iopub.status.busy": "2025-06-13T00:06:39.291785Z",
     "iopub.status.idle": "2025-06-13T00:06:39.302852Z",
     "shell.execute_reply": "2025-06-13T00:06:39.302852Z"
    },
    "papermill": {
     "duration": 0.015969,
     "end_time": "2025-06-13T00:06:39.303757",
     "exception": false,
     "start_time": "2025-06-13T00:06:39.287788",
     "status": "completed"
    },
    "tags": [
     "injected-parameters"
    ]
   },
   "outputs": [],
   "source": [
    "# Parameters\n",
    "reports_dir = \"C:\\\\Users\\\\abivi\\\\AppData\\\\Local\\\\Temp\\\\tmpjz1kwycp\\\\reports\"\n",
    "parameters = {\"x\": 2, \"y\": 1}\n"
   ]
  },
  {
   "cell_type": "code",
   "execution_count": 2,
   "id": "5748f450",
   "metadata": {
    "execution": {
     "iopub.execute_input": "2025-06-13T00:06:39.311798Z",
     "iopub.status.busy": "2025-06-13T00:06:39.311798Z",
     "iopub.status.idle": "2025-06-13T00:06:39.318788Z",
     "shell.execute_reply": "2025-06-13T00:06:39.318788Z"
    },
    "papermill": {
     "duration": 0.010986,
     "end_time": "2025-06-13T00:06:39.319773",
     "exception": false,
     "start_time": "2025-06-13T00:06:39.308787",
     "status": "completed"
    },
    "tags": []
   },
   "outputs": [
    {
     "name": "stdout",
     "output_type": "stream",
     "text": [
      "2 multiplied by 1 is 2\n"
     ]
    }
   ],
   "source": [
    "x=parameters[\"x\"]\n",
    "y=parameters[\"y\"]\n",
    "\n",
    "result= x*y\n",
    "print(f\"{x} multiplied by {y} is {result}\")"
   ]
  },
  {
   "cell_type": "code",
   "execution_count": 3,
   "id": "b6413879",
   "metadata": {
    "execution": {
     "iopub.execute_input": "2025-06-13T00:06:39.324697Z",
     "iopub.status.busy": "2025-06-13T00:06:39.324697Z",
     "iopub.status.idle": "2025-06-13T00:06:39.333791Z",
     "shell.execute_reply": "2025-06-13T00:06:39.333791Z"
    },
    "papermill": {
     "duration": 0.013206,
     "end_time": "2025-06-13T00:06:39.334901",
     "exception": false,
     "start_time": "2025-06-13T00:06:39.321695",
     "status": "completed"
    },
    "tags": []
   },
   "outputs": [
    {
     "name": "stdout",
     "output_type": "stream",
     "text": [
      "Current working directory: C:\\Users\\abivi\\projects\\modelEarth\\modelearth-cloud\\run\n"
     ]
    }
   ],
   "source": [
    "import os\n",
    "print(\"Current working directory:\", os.getcwd())\n",
    "output_path = os.path.join(reports_dir, \"output.txt\")\n",
    "f = open(output_path, \"w\")\n",
    "f.write(f\"{x} multiplied by {y} is {result}\\n\")\n",
    "f.close()"
   ]
  },
  {
   "cell_type": "code",
   "execution_count": null,
   "id": "9e361da5",
   "metadata": {
    "papermill": {
     "duration": 0.003001,
     "end_time": "2025-06-13T00:06:39.341048",
     "exception": false,
     "start_time": "2025-06-13T00:06:39.338047",
     "status": "completed"
    },
    "tags": []
   },
   "outputs": [],
   "source": []
  }
 ],
 "metadata": {
  "kernelspec": {
   "display_name": "base",
   "language": "python",
   "name": "python3"
  },
  "language_info": {
   "codemirror_mode": {
    "name": "ipython",
    "version": 3
   },
   "file_extension": ".py",
   "mimetype": "text/x-python",
   "name": "python",
   "nbconvert_exporter": "python",
   "pygments_lexer": "ipython3",
   "version": "3.9.23"
  },
  "papermill": {
   "default_parameters": {},
   "duration": 6.468725,
   "end_time": "2025-06-13T00:06:42.544310",
   "environment_variables": {},
   "exception": null,
   "input_path": "C:\\Users\\abivi\\AppData\\Local\\Temp\\tmpjz1kwycp\\notebook.ipynb",
   "output_path": "C:\\Users\\abivi\\AppData\\Local\\Temp\\tmpjz1kwycp\\reports\\output.ipynb",
   "parameters": {
    "parameters": {
     "x": 2,
     "y": 1
    },
    "reports_dir": "C:\\Users\\abivi\\AppData\\Local\\Temp\\tmpjz1kwycp\\reports"
   },
   "start_time": "2025-06-13T00:06:36.075585",
   "version": "2.3.3"
  }
 },
 "nbformat": 4,
 "nbformat_minor": 5
}