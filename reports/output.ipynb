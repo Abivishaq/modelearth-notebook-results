{
 "cells": [
  {
   "cell_type": "code",
   "execution_count": 1,
   "id": "52fbb980",
   "metadata": {
    "execution": {
     "iopub.execute_input": "2025-06-09T21:06:41.681802Z",
     "iopub.status.busy": "2025-06-09T21:06:41.681642Z",
     "iopub.status.idle": "2025-06-09T21:06:41.686132Z",
     "shell.execute_reply": "2025-06-09T21:06:41.685590Z"
    },
    "papermill": {
     "duration": 0.010122,
     "end_time": "2025-06-09T21:06:41.687207",
     "exception": false,
     "start_time": "2025-06-09T21:06:41.677085",
     "status": "completed"
    },
    "tags": [
     "injected-parameters"
    ]
   },
   "outputs": [],
   "source": [
    "# Parameters\n",
    "reports_dir = \"temp_dir/reports\"\n"
   ]
  },
  {
   "cell_type": "code",
   "execution_count": 2,
   "id": "5748f450",
   "metadata": {
    "execution": {
     "iopub.execute_input": "2025-06-09T21:06:41.693004Z",
     "iopub.status.busy": "2025-06-09T21:06:41.692893Z",
     "iopub.status.idle": "2025-06-09T21:06:41.695908Z",
     "shell.execute_reply": "2025-06-09T21:06:41.695423Z"
    },
    "papermill": {
     "duration": 0.007032,
     "end_time": "2025-06-09T21:06:41.696964",
     "exception": false,
     "start_time": "2025-06-09T21:06:41.689932",
     "status": "completed"
    },
    "tags": []
   },
   "outputs": [
    {
     "name": "stdout",
     "output_type": "stream",
     "text": [
      "3 raised to the power of 10 is 1024\n"
     ]
    }
   ],
   "source": [
    "x=3\n",
    "y=10\n",
    "\n",
    "result= 2**10\n",
    "print(f\"{x} raised to the power of {y} is {result}\")"
   ]
  },
  {
   "cell_type": "code",
   "execution_count": 3,
   "id": "b6413879",
   "metadata": {
    "execution": {
     "iopub.execute_input": "2025-06-09T21:06:41.702640Z",
     "iopub.status.busy": "2025-06-09T21:06:41.702537Z",
     "iopub.status.idle": "2025-06-09T21:06:41.705565Z",
     "shell.execute_reply": "2025-06-09T21:06:41.705216Z"
    },
    "papermill": {
     "duration": 0.007134,
     "end_time": "2025-06-09T21:06:41.706633",
     "exception": false,
     "start_time": "2025-06-09T21:06:41.699499",
     "status": "completed"
    },
    "tags": []
   },
   "outputs": [
    {
     "name": "stdout",
     "output_type": "stream",
     "text": [
      "Current working directory: /home/abivishaq/projects/modelEarth/modelearth-cloud/run\n"
     ]
    }
   ],
   "source": [
    "import os\n",
    "print(\"Current working directory:\", os.getcwd())\n",
    "output_path = os.path.join(reports_dir, \"output.txt\")\n",
    "f = open(output_path, \"w\")\n",
    "f.write(f\"{x} raised to the power of {y} is {result}\\n\")\n",
    "f.close()"
   ]
  },
  {
   "cell_type": "code",
   "execution_count": null,
   "id": "9e361da5",
   "metadata": {
    "papermill": {
     "duration": 0.002544,
     "end_time": "2025-06-09T21:06:41.711846",
     "exception": false,
     "start_time": "2025-06-09T21:06:41.709302",
     "status": "completed"
    },
    "tags": []
   },
   "outputs": [],
   "source": []
  }
 ],
 "metadata": {
  "kernelspec": {
   "display_name": "base",
   "language": "python",
   "name": "python3"
  },
  "language_info": {
   "codemirror_mode": {
    "name": "ipython",
    "version": 3
   },
   "file_extension": ".py",
   "mimetype": "text/x-python",
   "name": "python",
   "nbconvert_exporter": "python",
   "pygments_lexer": "ipython3",
   "version": "3.10.12"
  },
  "papermill": {
   "default_parameters": {},
   "duration": 0.842943,
   "end_time": "2025-06-09T21:06:41.834892",
   "environment_variables": {},
   "exception": null,
   "input_path": "temp_dir/notebook.ipynb",
   "output_path": "temp_dir/reports/output.ipynb",
   "parameters": {
    "reports_dir": "temp_dir/reports"
   },
   "start_time": "2025-06-09T21:06:40.991949",
   "version": "2.3.3"
  }
 },
 "nbformat": 4,
 "nbformat_minor": 5
}