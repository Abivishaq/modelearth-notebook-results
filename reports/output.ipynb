{
 "cells": [
  {
   "cell_type": "code",
   "execution_count": 1,
   "id": "364fe326",
   "metadata": {
    "execution": {
     "iopub.execute_input": "2025-06-10T22:16:47.211714Z",
     "iopub.status.busy": "2025-06-10T22:16:47.211295Z",
     "iopub.status.idle": "2025-06-10T22:16:47.224780Z",
     "shell.execute_reply": "2025-06-10T22:16:47.223442Z"
    },
    "papermill": {
     "duration": 0.027586,
     "end_time": "2025-06-10T22:16:47.227566",
     "exception": false,
     "start_time": "2025-06-10T22:16:47.199980",
     "status": "completed"
    },
    "tags": [
     "injected-parameters"
    ]
   },
   "outputs": [],
   "source": [
    "# Parameters\n",
    "reports_dir = \"/tmp/tmp33lt1wfx/reports\"\n",
    "parameters = {\"x\": 1, \"y\": 2}\n"
   ]
  },
  {
   "cell_type": "code",
   "execution_count": 2,
   "id": "5748f450",
   "metadata": {
    "execution": {
     "iopub.execute_input": "2025-06-10T22:16:47.238538Z",
     "iopub.status.busy": "2025-06-10T22:16:47.238407Z",
     "iopub.status.idle": "2025-06-10T22:16:47.241845Z",
     "shell.execute_reply": "2025-06-10T22:16:47.241156Z"
    },
    "papermill": {
     "duration": 0.008613,
     "end_time": "2025-06-10T22:16:47.242876",
     "exception": false,
     "start_time": "2025-06-10T22:16:47.234263",
     "status": "completed"
    },
    "tags": []
   },
   "outputs": [
    {
     "name": "stdout",
     "output_type": "stream",
     "text": [
      "1 raised to the power of 2 is 2\n"
     ]
    }
   ],
   "source": [
    "x=parameters[\"x\"]\n",
    "y=parameters[\"y\"]\n",
    "\n",
    "result= x*y\n",
    "print(f\"{x} raised to the power of {y} is {result}\")"
   ]
  },
  {
   "cell_type": "code",
   "execution_count": 3,
   "id": "b6413879",
   "metadata": {
    "execution": {
     "iopub.execute_input": "2025-06-10T22:16:47.249212Z",
     "iopub.status.busy": "2025-06-10T22:16:47.249015Z",
     "iopub.status.idle": "2025-06-10T22:16:47.252304Z",
     "shell.execute_reply": "2025-06-10T22:16:47.251784Z"
    },
    "papermill": {
     "duration": 0.007791,
     "end_time": "2025-06-10T22:16:47.253438",
     "exception": false,
     "start_time": "2025-06-10T22:16:47.245647",
     "status": "completed"
    },
    "tags": []
   },
   "outputs": [
    {
     "name": "stdout",
     "output_type": "stream",
     "text": [
      "Current working directory: /home/abivishaq/projects/modelEarth/modelearth-cloud/run\n"
     ]
    }
   ],
   "source": [
    "import os\n",
    "print(\"Current working directory:\", os.getcwd())\n",
    "output_path = os.path.join(reports_dir, \"output.txt\")\n",
    "f = open(output_path, \"w\")\n",
    "f.write(f\"{x} raised to the power of {y} is {result}\\n\")\n",
    "f.close()"
   ]
  },
  {
   "cell_type": "code",
   "execution_count": null,
   "id": "9e361da5",
   "metadata": {
    "papermill": {
     "duration": 0.0026,
     "end_time": "2025-06-10T22:16:47.258943",
     "exception": false,
     "start_time": "2025-06-10T22:16:47.256343",
     "status": "completed"
    },
    "tags": []
   },
   "outputs": [],
   "source": []
  }
 ],
 "metadata": {
  "kernelspec": {
   "display_name": "base",
   "language": "python",
   "name": "python3"
  },
  "language_info": {
   "codemirror_mode": {
    "name": "ipython",
    "version": 3
   },
   "file_extension": ".py",
   "mimetype": "text/x-python",
   "name": "python",
   "nbconvert_exporter": "python",
   "pygments_lexer": "ipython3",
   "version": "3.10.12"
  },
  "papermill": {
   "default_parameters": {},
   "duration": 0.891674,
   "end_time": "2025-06-10T22:16:47.378643",
   "environment_variables": {},
   "exception": null,
   "input_path": "/tmp/tmp33lt1wfx/notebook.ipynb",
   "output_path": "/tmp/tmp33lt1wfx/reports/output.ipynb",
   "parameters": {
    "parameters": {
     "x": 1,
     "y": 2
    },
    "reports_dir": "/tmp/tmp33lt1wfx/reports"
   },
   "start_time": "2025-06-10T22:16:46.486969",
   "version": "2.3.3"
  }
 },
 "nbformat": 4,
 "nbformat_minor": 5
}