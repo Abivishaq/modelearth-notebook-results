{
 "cells": [
  {
   "cell_type": "code",
   "execution_count": 1,
   "id": "a652881b",
   "metadata": {
    "execution": {
     "iopub.execute_input": "2025-06-10T23:13:40.410252Z",
     "iopub.status.busy": "2025-06-10T23:13:40.409728Z",
     "iopub.status.idle": "2025-06-10T23:13:40.423814Z",
     "shell.execute_reply": "2025-06-10T23:13:40.422514Z"
    },
    "papermill": {
     "duration": 0.027935,
     "end_time": "2025-06-10T23:13:40.427159",
     "exception": false,
     "start_time": "2025-06-10T23:13:40.399224",
     "status": "completed"
    },
    "tags": [
     "injected-parameters"
    ]
   },
   "outputs": [],
   "source": [
    "# Parameters\n",
    "reports_dir = \"/tmp/tmpydil6p4o/reports\"\n",
    "parameters = {\"x\": 10, \"y\": 10}\n"
   ]
  },
  {
   "cell_type": "code",
   "execution_count": 2,
   "id": "5748f450",
   "metadata": {
    "execution": {
     "iopub.execute_input": "2025-06-10T23:13:40.446592Z",
     "iopub.status.busy": "2025-06-10T23:13:40.446138Z",
     "iopub.status.idle": "2025-06-10T23:13:40.453821Z",
     "shell.execute_reply": "2025-06-10T23:13:40.452451Z"
    },
    "papermill": {
     "duration": 0.020917,
     "end_time": "2025-06-10T23:13:40.456878",
     "exception": false,
     "start_time": "2025-06-10T23:13:40.435961",
     "status": "completed"
    },
    "tags": []
   },
   "outputs": [
    {
     "name": "stdout",
     "output_type": "stream",
     "text": [
      "10 multiplied by 10 is 100\n"
     ]
    }
   ],
   "source": [
    "x=parameters[\"x\"]\n",
    "y=parameters[\"y\"]\n",
    "\n",
    "result= x*y\n",
    "print(f\"{x} multiplied by {y} is {result}\")"
   ]
  },
  {
   "cell_type": "code",
   "execution_count": 3,
   "id": "b6413879",
   "metadata": {
    "execution": {
     "iopub.execute_input": "2025-06-10T23:13:40.477647Z",
     "iopub.status.busy": "2025-06-10T23:13:40.477149Z",
     "iopub.status.idle": "2025-06-10T23:13:40.485806Z",
     "shell.execute_reply": "2025-06-10T23:13:40.484523Z"
    },
    "papermill": {
     "duration": 0.022388,
     "end_time": "2025-06-10T23:13:40.488686",
     "exception": false,
     "start_time": "2025-06-10T23:13:40.466298",
     "status": "completed"
    },
    "tags": []
   },
   "outputs": [
    {
     "name": "stdout",
     "output_type": "stream",
     "text": [
      "Current working directory: /app\n"
     ]
    }
   ],
   "source": [
    "import os\n",
    "print(\"Current working directory:\", os.getcwd())\n",
    "output_path = os.path.join(reports_dir, \"output.txt\")\n",
    "f = open(output_path, \"w\")\n",
    "f.write(f\"{x} multiplied by {y} is {result}\\n\")\n",
    "f.close()"
   ]
  },
  {
   "cell_type": "code",
   "execution_count": null,
   "id": "9e361da5",
   "metadata": {
    "papermill": {
     "duration": 0.009941,
     "end_time": "2025-06-10T23:13:40.508729",
     "exception": false,
     "start_time": "2025-06-10T23:13:40.498788",
     "status": "completed"
    },
    "tags": []
   },
   "outputs": [],
   "source": []
  }
 ],
 "metadata": {
  "kernelspec": {
   "display_name": "base",
   "language": "python",
   "name": "python3"
  },
  "language_info": {
   "codemirror_mode": {
    "name": "ipython",
    "version": 3
   },
   "file_extension": ".py",
   "mimetype": "text/x-python",
   "name": "python",
   "nbconvert_exporter": "python",
   "pygments_lexer": "ipython3",
   "version": "3.9.23"
  },
  "papermill": {
   "default_parameters": {},
   "duration": 2.175168,
   "end_time": "2025-06-10T23:13:40.842222",
   "environment_variables": {},
   "exception": null,
   "input_path": "/tmp/tmpydil6p4o/notebook.ipynb",
   "output_path": "/tmp/tmpydil6p4o/reports/output.ipynb",
   "parameters": {
    "parameters": {
     "x": 10,
     "y": 10
    },
    "reports_dir": "/tmp/tmpydil6p4o/reports"
   },
   "start_time": "2025-06-10T23:13:38.667054",
   "version": "2.3.3"
  }
 },
 "nbformat": 4,
 "nbformat_minor": 5
}