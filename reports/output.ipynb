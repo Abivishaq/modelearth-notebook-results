{
 "cells": [
  {
   "cell_type": "code",
   "execution_count": 1,
   "id": "55f53d2f",
   "metadata": {
    "execution": {
     "iopub.execute_input": "2025-06-10T21:33:34.955480Z",
     "iopub.status.busy": "2025-06-10T21:33:34.955172Z",
     "iopub.status.idle": "2025-06-10T21:33:34.962222Z",
     "shell.execute_reply": "2025-06-10T21:33:34.961506Z"
    },
    "papermill": {
     "duration": 0.015062,
     "end_time": "2025-06-10T21:33:34.963361",
     "exception": false,
     "start_time": "2025-06-10T21:33:34.948299",
     "status": "completed"
    },
    "tags": [
     "injected-parameters"
    ]
   },
   "outputs": [],
   "source": [
    "# Parameters\n",
    "reports_dir = \"temp_dir/reports\"\n"
   ]
  },
  {
   "cell_type": "code",
   "execution_count": 2,
   "id": "5748f450",
   "metadata": {
    "execution": {
     "iopub.execute_input": "2025-06-10T21:33:34.969221Z",
     "iopub.status.busy": "2025-06-10T21:33:34.969085Z",
     "iopub.status.idle": "2025-06-10T21:33:34.972845Z",
     "shell.execute_reply": "2025-06-10T21:33:34.972116Z"
    },
    "papermill": {
     "duration": 0.008196,
     "end_time": "2025-06-10T21:33:34.974330",
     "exception": false,
     "start_time": "2025-06-10T21:33:34.966134",
     "status": "completed"
    },
    "tags": []
   },
   "outputs": [
    {
     "name": "stdout",
     "output_type": "stream",
     "text": [
      "2 raised to the power of 10 is 20\n"
     ]
    }
   ],
   "source": [
    "x=2\n",
    "y=10\n",
    "\n",
    "result= x*y\n",
    "print(f\"{x} raised to the power of {y} is {result}\")"
   ]
  },
  {
   "cell_type": "code",
   "execution_count": 3,
   "id": "b6413879",
   "metadata": {
    "execution": {
     "iopub.execute_input": "2025-06-10T21:33:34.985034Z",
     "iopub.status.busy": "2025-06-10T21:33:34.984846Z",
     "iopub.status.idle": "2025-06-10T21:33:34.988660Z",
     "shell.execute_reply": "2025-06-10T21:33:34.988070Z"
    },
    "papermill": {
     "duration": 0.01093,
     "end_time": "2025-06-10T21:33:34.990027",
     "exception": false,
     "start_time": "2025-06-10T21:33:34.979097",
     "status": "completed"
    },
    "tags": []
   },
   "outputs": [
    {
     "name": "stdout",
     "output_type": "stream",
     "text": [
      "Current working directory: /home/abivishaq/projects/modelEarth/modelearth-cloud/run\n"
     ]
    }
   ],
   "source": [
    "import os\n",
    "print(\"Current working directory:\", os.getcwd())\n",
    "output_path = os.path.join(reports_dir, \"output.txt\")\n",
    "f = open(output_path, \"w\")\n",
    "f.write(f\"{x} raised to the power of {y} is {result}\\n\")\n",
    "f.close()"
   ]
  },
  {
   "cell_type": "code",
   "execution_count": null,
   "id": "9e361da5",
   "metadata": {
    "papermill": {
     "duration": 0.002822,
     "end_time": "2025-06-10T21:33:34.995846",
     "exception": false,
     "start_time": "2025-06-10T21:33:34.993024",
     "status": "completed"
    },
    "tags": []
   },
   "outputs": [],
   "source": []
  }
 ],
 "metadata": {
  "kernelspec": {
   "display_name": "base",
   "language": "python",
   "name": "python3"
  },
  "language_info": {
   "codemirror_mode": {
    "name": "ipython",
    "version": 3
   },
   "file_extension": ".py",
   "mimetype": "text/x-python",
   "name": "python",
   "nbconvert_exporter": "python",
   "pygments_lexer": "ipython3",
   "version": "3.10.12"
  },
  "papermill": {
   "default_parameters": {},
   "duration": 0.883186,
   "end_time": "2025-06-10T21:33:35.114704",
   "environment_variables": {},
   "exception": null,
   "input_path": "temp_dir/notebook.ipynb",
   "output_path": "temp_dir/reports/output.ipynb",
   "parameters": {
    "reports_dir": "temp_dir/reports"
   },
   "start_time": "2025-06-10T21:33:34.231518",
   "version": "2.3.3"
  }
 },
 "nbformat": 4,
 "nbformat_minor": 5
}