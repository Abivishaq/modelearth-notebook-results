{
 "cells": [
  {
   "cell_type": "code",
   "execution_count": 1,
   "id": "1f09dbb3",
   "metadata": {
    "execution": {
     "iopub.execute_input": "2025-06-12T22:26:06.277825Z",
     "iopub.status.busy": "2025-06-12T22:26:06.277638Z",
     "iopub.status.idle": "2025-06-12T22:26:06.284397Z",
     "shell.execute_reply": "2025-06-12T22:26:06.283756Z"
    },
    "papermill": {
     "duration": 0.017504,
     "end_time": "2025-06-12T22:26:06.286274",
     "exception": false,
     "start_time": "2025-06-12T22:26:06.268770",
     "status": "completed"
    },
    "tags": [
     "injected-parameters"
    ]
   },
   "outputs": [],
   "source": [
    "# Parameters\n",
    "reports_dir = \"/tmp/tmp49bu4ori/reports\"\n",
    "parameters = {\"x\": 2, \"y\": 1}\n"
   ]
  },
  {
   "cell_type": "code",
   "execution_count": 2,
   "id": "5748f450",
   "metadata": {
    "execution": {
     "iopub.execute_input": "2025-06-12T22:26:06.296816Z",
     "iopub.status.busy": "2025-06-12T22:26:06.296412Z",
     "iopub.status.idle": "2025-06-12T22:26:06.299348Z",
     "shell.execute_reply": "2025-06-12T22:26:06.298838Z"
    },
    "papermill": {
     "duration": 0.008861,
     "end_time": "2025-06-12T22:26:06.300616",
     "exception": false,
     "start_time": "2025-06-12T22:26:06.291755",
     "status": "completed"
    },
    "tags": []
   },
   "outputs": [
    {
     "name": "stdout",
     "output_type": "stream",
     "text": [
      "2 multiplied by 1 is 2\n"
     ]
    }
   ],
   "source": [
    "x=parameters[\"x\"]\n",
    "y=parameters[\"y\"]\n",
    "\n",
    "result= x*y\n",
    "print(f\"{x} multiplied by {y} is {result}\")"
   ]
  },
  {
   "cell_type": "code",
   "execution_count": 3,
   "id": "b6413879",
   "metadata": {
    "execution": {
     "iopub.execute_input": "2025-06-12T22:26:06.307198Z",
     "iopub.status.busy": "2025-06-12T22:26:06.307087Z",
     "iopub.status.idle": "2025-06-12T22:26:06.310208Z",
     "shell.execute_reply": "2025-06-12T22:26:06.309640Z"
    },
    "papermill": {
     "duration": 0.007523,
     "end_time": "2025-06-12T22:26:06.311253",
     "exception": false,
     "start_time": "2025-06-12T22:26:06.303730",
     "status": "completed"
    },
    "tags": []
   },
   "outputs": [
    {
     "name": "stdout",
     "output_type": "stream",
     "text": [
      "Current working directory: /home/abivishaq/projects/modelEarth/modelearth-cloud/run\n"
     ]
    }
   ],
   "source": [
    "import os\n",
    "print(\"Current working directory:\", os.getcwd())\n",
    "output_path = os.path.join(reports_dir, \"output.txt\")\n",
    "f = open(output_path, \"w\")\n",
    "f.write(f\"{x} multiplied by {y} is {result}\\n\")\n",
    "f.close()"
   ]
  },
  {
   "cell_type": "code",
   "execution_count": null,
   "id": "9e361da5",
   "metadata": {
    "papermill": {
     "duration": 0.003016,
     "end_time": "2025-06-12T22:26:06.317353",
     "exception": false,
     "start_time": "2025-06-12T22:26:06.314337",
     "status": "completed"
    },
    "tags": []
   },
   "outputs": [],
   "source": []
  }
 ],
 "metadata": {
  "kernelspec": {
   "display_name": "base",
   "language": "python",
   "name": "python3"
  },
  "language_info": {
   "codemirror_mode": {
    "name": "ipython",
    "version": 3
   },
   "file_extension": ".py",
   "mimetype": "text/x-python",
   "name": "python",
   "nbconvert_exporter": "python",
   "pygments_lexer": "ipython3",
   "version": "3.8.10"
  },
  "papermill": {
   "default_parameters": {},
   "duration": 0.993886,
   "end_time": "2025-06-12T22:26:06.438928",
   "environment_variables": {},
   "exception": null,
   "input_path": "/tmp/tmp49bu4ori/notebook.ipynb",
   "output_path": "/tmp/tmp49bu4ori/reports/output.ipynb",
   "parameters": {
    "parameters": {
     "x": 2,
     "y": 1
    },
    "reports_dir": "/tmp/tmp49bu4ori/reports"
   },
   "start_time": "2025-06-12T22:26:05.445042",
   "version": "2.3.3"
  }
 },
 "nbformat": 4,
 "nbformat_minor": 5
}