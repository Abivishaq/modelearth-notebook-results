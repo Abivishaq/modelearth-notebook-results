{
 "cells": [
  {
   "cell_type": "code",
   "execution_count": 1,
   "id": "9045f618",
   "metadata": {
    "execution": {
     "iopub.execute_input": "2025-06-09T20:54:26.724969Z",
     "iopub.status.busy": "2025-06-09T20:54:26.724803Z",
     "iopub.status.idle": "2025-06-09T20:54:26.729670Z",
     "shell.execute_reply": "2025-06-09T20:54:26.728917Z"
    },
    "papermill": {
     "duration": 0.012732,
     "end_time": "2025-06-09T20:54:26.731549",
     "exception": false,
     "start_time": "2025-06-09T20:54:26.718817",
     "status": "completed"
    },
    "tags": [
     "injected-parameters"
    ]
   },
   "outputs": [],
   "source": [
    "# Parameters\n",
    "reports_dir = \"temp_dir/reports\"\n"
   ]
  },
  {
   "cell_type": "code",
   "execution_count": 2,
   "id": "5748f450",
   "metadata": {
    "execution": {
     "iopub.execute_input": "2025-06-09T20:54:26.740935Z",
     "iopub.status.busy": "2025-06-09T20:54:26.740797Z",
     "iopub.status.idle": "2025-06-09T20:54:26.743977Z",
     "shell.execute_reply": "2025-06-09T20:54:26.743650Z"
    },
    "papermill": {
     "duration": 0.008538,
     "end_time": "2025-06-09T20:54:26.745288",
     "exception": false,
     "start_time": "2025-06-09T20:54:26.736750",
     "status": "completed"
    },
    "tags": []
   },
   "outputs": [
    {
     "name": "stdout",
     "output_type": "stream",
     "text": [
      "2 raised to the power of 10 is 1024\n"
     ]
    }
   ],
   "source": [
    "x=2\n",
    "y=10\n",
    "\n",
    "result= 2**10\n",
    "print(f\"{x} raised to the power of {y} is {result}\")"
   ]
  },
  {
   "cell_type": "code",
   "execution_count": 3,
   "id": "b6413879",
   "metadata": {
    "execution": {
     "iopub.execute_input": "2025-06-09T20:54:26.751630Z",
     "iopub.status.busy": "2025-06-09T20:54:26.751498Z",
     "iopub.status.idle": "2025-06-09T20:54:26.754733Z",
     "shell.execute_reply": "2025-06-09T20:54:26.754375Z"
    },
    "papermill": {
     "duration": 0.007657,
     "end_time": "2025-06-09T20:54:26.755728",
     "exception": false,
     "start_time": "2025-06-09T20:54:26.748071",
     "status": "completed"
    },
    "tags": []
   },
   "outputs": [
    {
     "name": "stdout",
     "output_type": "stream",
     "text": [
      "Current working directory: /home/abivishaq/projects/modelEarth/modelearth-cloud/run\n"
     ]
    }
   ],
   "source": [
    "import os\n",
    "print(\"Current working directory:\", os.getcwd())\n",
    "output_path = os.path.join(reports_dir, \"output.txt\")\n",
    "f = open(output_path, \"w\")\n",
    "f.write(f\"{x} raised to the power of {y} is {result}\\n\")\n",
    "f.close()"
   ]
  },
  {
   "cell_type": "code",
   "execution_count": null,
   "id": "9e361da5",
   "metadata": {
    "papermill": {
     "duration": 0.002638,
     "end_time": "2025-06-09T20:54:26.761163",
     "exception": false,
     "start_time": "2025-06-09T20:54:26.758525",
     "status": "completed"
    },
    "tags": []
   },
   "outputs": [],
   "source": []
  }
 ],
 "metadata": {
  "kernelspec": {
   "display_name": "base",
   "language": "python",
   "name": "python3"
  },
  "language_info": {
   "codemirror_mode": {
    "name": "ipython",
    "version": 3
   },
   "file_extension": ".py",
   "mimetype": "text/x-python",
   "name": "python",
   "nbconvert_exporter": "python",
   "pygments_lexer": "ipython3",
   "version": "3.10.12"
  },
  "papermill": {
   "default_parameters": {},
   "duration": 0.932891,
   "end_time": "2025-06-09T20:54:26.878960",
   "environment_variables": {},
   "exception": null,
   "input_path": "temp_dir/notebook.ipynb",
   "output_path": "temp_dir/reports/output.ipynb",
   "parameters": {
    "reports_dir": "temp_dir/reports"
   },
   "start_time": "2025-06-09T20:54:25.946069",
   "version": "2.3.3"
  }
 },
 "nbformat": 4,
 "nbformat_minor": 5
}