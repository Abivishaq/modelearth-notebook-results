{
 "cells": [
  {
   "cell_type": "code",
   "execution_count": 1,
   "id": "a36c74bd",
   "metadata": {
    "execution": {
     "iopub.execute_input": "2025-06-10T21:50:54.060451Z",
     "iopub.status.busy": "2025-06-10T21:50:54.060015Z",
     "iopub.status.idle": "2025-06-10T21:50:54.067048Z",
     "shell.execute_reply": "2025-06-10T21:50:54.066603Z"
    },
    "papermill": {
     "duration": 0.018601,
     "end_time": "2025-06-10T21:50:54.069085",
     "exception": false,
     "start_time": "2025-06-10T21:50:54.050484",
     "status": "completed"
    },
    "tags": [
     "injected-parameters"
    ]
   },
   "outputs": [],
   "source": [
    "# Parameters\n",
    "reports_dir = \"/tmp/tmp8gm0kv1c/reports\"\n"
   ]
  },
  {
   "cell_type": "code",
   "execution_count": 2,
   "id": "5748f450",
   "metadata": {
    "execution": {
     "iopub.execute_input": "2025-06-10T21:50:54.082155Z",
     "iopub.status.busy": "2025-06-10T21:50:54.081871Z",
     "iopub.status.idle": "2025-06-10T21:50:54.086887Z",
     "shell.execute_reply": "2025-06-10T21:50:54.086047Z"
    },
    "papermill": {
     "duration": 0.014289,
     "end_time": "2025-06-10T21:50:54.088826",
     "exception": false,
     "start_time": "2025-06-10T21:50:54.074537",
     "status": "completed"
    },
    "tags": []
   },
   "outputs": [
    {
     "name": "stdout",
     "output_type": "stream",
     "text": [
      "2 raised to the power of 10 is 20\n"
     ]
    }
   ],
   "source": [
    "x=2\n",
    "y=10\n",
    "\n",
    "result= x*y\n",
    "print(f\"{x} raised to the power of {y} is {result}\")"
   ]
  },
  {
   "cell_type": "code",
   "execution_count": 3,
   "id": "b6413879",
   "metadata": {
    "execution": {
     "iopub.execute_input": "2025-06-10T21:50:54.099564Z",
     "iopub.status.busy": "2025-06-10T21:50:54.098649Z",
     "iopub.status.idle": "2025-06-10T21:50:54.102973Z",
     "shell.execute_reply": "2025-06-10T21:50:54.102273Z"
    },
    "papermill": {
     "duration": 0.009826,
     "end_time": "2025-06-10T21:50:54.104229",
     "exception": false,
     "start_time": "2025-06-10T21:50:54.094403",
     "status": "completed"
    },
    "tags": []
   },
   "outputs": [
    {
     "name": "stdout",
     "output_type": "stream",
     "text": [
      "Current working directory: /home/abivishaq/projects/modelEarth/modelearth-cloud/run\n"
     ]
    }
   ],
   "source": [
    "import os\n",
    "print(\"Current working directory:\", os.getcwd())\n",
    "output_path = os.path.join(reports_dir, \"output.txt\")\n",
    "f = open(output_path, \"w\")\n",
    "f.write(f\"{x} raised to the power of {y} is {result}\\n\")\n",
    "f.close()"
   ]
  },
  {
   "cell_type": "code",
   "execution_count": null,
   "id": "9e361da5",
   "metadata": {
    "papermill": {
     "duration": 0.002688,
     "end_time": "2025-06-10T21:50:54.109978",
     "exception": false,
     "start_time": "2025-06-10T21:50:54.107290",
     "status": "completed"
    },
    "tags": []
   },
   "outputs": [],
   "source": []
  }
 ],
 "metadata": {
  "kernelspec": {
   "display_name": "base",
   "language": "python",
   "name": "python3"
  },
  "language_info": {
   "codemirror_mode": {
    "name": "ipython",
    "version": 3
   },
   "file_extension": ".py",
   "mimetype": "text/x-python",
   "name": "python",
   "nbconvert_exporter": "python",
   "pygments_lexer": "ipython3",
   "version": "3.10.12"
  },
  "papermill": {
   "default_parameters": {},
   "duration": 1.021484,
   "end_time": "2025-06-10T21:50:54.230705",
   "environment_variables": {},
   "exception": null,
   "input_path": "/tmp/tmp8gm0kv1c/notebook.ipynb",
   "output_path": "/tmp/tmp8gm0kv1c/reports/output.ipynb",
   "parameters": {
    "reports_dir": "/tmp/tmp8gm0kv1c/reports"
   },
   "start_time": "2025-06-10T21:50:53.209221",
   "version": "2.3.3"
  }
 },
 "nbformat": 4,
 "nbformat_minor": 5
}