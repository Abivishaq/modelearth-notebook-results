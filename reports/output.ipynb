{
 "cells": [
  {
   "cell_type": "code",
   "execution_count": 1,
   "id": "d94dd1f5",
   "metadata": {
    "execution": {
     "iopub.execute_input": "2025-06-13T00:56:57.364085Z",
     "iopub.status.busy": "2025-06-13T00:56:57.363086Z",
     "iopub.status.idle": "2025-06-13T00:56:57.374057Z",
     "shell.execute_reply": "2025-06-13T00:56:57.374057Z"
    },
    "papermill": {
     "duration": 0.017127,
     "end_time": "2025-06-13T00:56:57.376060",
     "exception": false,
     "start_time": "2025-06-13T00:56:57.358933",
     "status": "completed"
    },
    "tags": [
     "injected-parameters"
    ]
   },
   "outputs": [],
   "source": [
    "# Parameters\n",
    "reports_dir = \"C:\\\\Users\\\\abivi\\\\AppData\\\\Local\\\\Temp\\\\tmpr42xxj22\\\\reports\"\n",
    "parameters = {\"x\": 1, \"y\": 1}\n"
   ]
  },
  {
   "cell_type": "code",
   "execution_count": 2,
   "id": "5748f450",
   "metadata": {
    "execution": {
     "iopub.execute_input": "2025-06-13T00:56:57.381423Z",
     "iopub.status.busy": "2025-06-13T00:56:57.381423Z",
     "iopub.status.idle": "2025-06-13T00:56:57.390050Z",
     "shell.execute_reply": "2025-06-13T00:56:57.390050Z"
    },
    "papermill": {
     "duration": 0.012982,
     "end_time": "2025-06-13T00:56:57.391050",
     "exception": false,
     "start_time": "2025-06-13T00:56:57.378068",
     "status": "completed"
    },
    "tags": []
   },
   "outputs": [
    {
     "name": "stdout",
     "output_type": "stream",
     "text": [
      "1 multiplied by 1 is 1\n"
     ]
    }
   ],
   "source": [
    "x=parameters[\"x\"]\n",
    "y=parameters[\"y\"]\n",
    "\n",
    "result= x*y\n",
    "print(f\"{x} multiplied by {y} is {result}\")"
   ]
  },
  {
   "cell_type": "code",
   "execution_count": 3,
   "id": "b6413879",
   "metadata": {
    "execution": {
     "iopub.execute_input": "2025-06-13T00:56:57.399050Z",
     "iopub.status.busy": "2025-06-13T00:56:57.399050Z",
     "iopub.status.idle": "2025-06-13T00:56:57.406318Z",
     "shell.execute_reply": "2025-06-13T00:56:57.405319Z"
    },
    "papermill": {
     "duration": 0.01227,
     "end_time": "2025-06-13T00:56:57.407319",
     "exception": false,
     "start_time": "2025-06-13T00:56:57.395049",
     "status": "completed"
    },
    "tags": []
   },
   "outputs": [
    {
     "name": "stdout",
     "output_type": "stream",
     "text": [
      "Current working directory: C:\\Users\\abivi\\projects\\modelEarth\\modelearth-cloud\\run\n"
     ]
    }
   ],
   "source": [
    "import os\n",
    "print(\"Current working directory:\", os.getcwd())\n",
    "output_path = os.path.join(reports_dir, \"output.txt\")\n",
    "f = open(output_path, \"w\")\n",
    "f.write(f\"{x} multiplied by {y} is {result}\\n\")\n",
    "f.close()"
   ]
  },
  {
   "cell_type": "code",
   "execution_count": null,
   "id": "9e361da5",
   "metadata": {
    "papermill": {
     "duration": 0.002998,
     "end_time": "2025-06-13T00:56:57.412825",
     "exception": false,
     "start_time": "2025-06-13T00:56:57.409827",
     "status": "completed"
    },
    "tags": []
   },
   "outputs": [],
   "source": []
  }
 ],
 "metadata": {
  "kernelspec": {
   "display_name": "base",
   "language": "python",
   "name": "python3"
  },
  "language_info": {
   "codemirror_mode": {
    "name": "ipython",
    "version": 3
   },
   "file_extension": ".py",
   "mimetype": "text/x-python",
   "name": "python",
   "nbconvert_exporter": "python",
   "pygments_lexer": "ipython3",
   "version": "3.9.23"
  },
  "papermill": {
   "default_parameters": {},
   "duration": 2.060908,
   "end_time": "2025-06-13T00:56:57.530341",
   "environment_variables": {},
   "exception": null,
   "input_path": "C:\\Users\\abivi\\AppData\\Local\\Temp\\tmpr42xxj22\\notebook.ipynb",
   "output_path": "C:\\Users\\abivi\\AppData\\Local\\Temp\\tmpr42xxj22\\reports\\output.ipynb",
   "parameters": {
    "parameters": {
     "x": 1,
     "y": 1
    },
    "reports_dir": "C:\\Users\\abivi\\AppData\\Local\\Temp\\tmpr42xxj22\\reports"
   },
   "start_time": "2025-06-13T00:56:55.469433",
   "version": "2.3.3"
  }
 },
 "nbformat": 4,
 "nbformat_minor": 5
}