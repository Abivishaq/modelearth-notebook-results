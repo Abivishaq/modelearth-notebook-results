{
 "cells": [
  {
   "cell_type": "code",
   "execution_count": 1,
   "id": "a5e10092",
   "metadata": {
    "execution": {
     "iopub.execute_input": "2025-06-10T22:18:17.528017Z",
     "iopub.status.busy": "2025-06-10T22:18:17.527728Z",
     "iopub.status.idle": "2025-06-10T22:18:17.535005Z",
     "shell.execute_reply": "2025-06-10T22:18:17.534396Z"
    },
    "papermill": {
     "duration": 0.016148,
     "end_time": "2025-06-10T22:18:17.536829",
     "exception": false,
     "start_time": "2025-06-10T22:18:17.520681",
     "status": "completed"
    },
    "tags": [
     "injected-parameters"
    ]
   },
   "outputs": [],
   "source": [
    "# Parameters\n",
    "reports_dir = \"/tmp/tmp0nyg8z21/reports\"\n",
    "parameters = {\"x\": 2, \"y\": 3}\n"
   ]
  },
  {
   "cell_type": "code",
   "execution_count": 2,
   "id": "5748f450",
   "metadata": {
    "execution": {
     "iopub.execute_input": "2025-06-10T22:18:17.546357Z",
     "iopub.status.busy": "2025-06-10T22:18:17.546219Z",
     "iopub.status.idle": "2025-06-10T22:18:17.549525Z",
     "shell.execute_reply": "2025-06-10T22:18:17.549159Z"
    },
    "papermill": {
     "duration": 0.008871,
     "end_time": "2025-06-10T22:18:17.550886",
     "exception": false,
     "start_time": "2025-06-10T22:18:17.542015",
     "status": "completed"
    },
    "tags": []
   },
   "outputs": [
    {
     "name": "stdout",
     "output_type": "stream",
     "text": [
      "2 raised to the power of 3 is 6\n"
     ]
    }
   ],
   "source": [
    "x=parameters[\"x\"]\n",
    "y=parameters[\"y\"]\n",
    "\n",
    "result= x*y\n",
    "print(f\"{x} raised to the power of {y} is {result}\")"
   ]
  },
  {
   "cell_type": "code",
   "execution_count": 3,
   "id": "b6413879",
   "metadata": {
    "execution": {
     "iopub.execute_input": "2025-06-10T22:18:17.558137Z",
     "iopub.status.busy": "2025-06-10T22:18:17.557955Z",
     "iopub.status.idle": "2025-06-10T22:18:17.560656Z",
     "shell.execute_reply": "2025-06-10T22:18:17.560341Z"
    },
    "papermill": {
     "duration": 0.007074,
     "end_time": "2025-06-10T22:18:17.561647",
     "exception": false,
     "start_time": "2025-06-10T22:18:17.554573",
     "status": "completed"
    },
    "tags": []
   },
   "outputs": [
    {
     "name": "stdout",
     "output_type": "stream",
     "text": [
      "Current working directory: /home/abivishaq/projects/modelEarth/modelearth-cloud/run\n"
     ]
    }
   ],
   "source": [
    "import os\n",
    "print(\"Current working directory:\", os.getcwd())\n",
    "output_path = os.path.join(reports_dir, \"output.txt\")\n",
    "f = open(output_path, \"w\")\n",
    "f.write(f\"{x} raised to the power of {y} is {result}\\n\")\n",
    "f.close()"
   ]
  },
  {
   "cell_type": "code",
   "execution_count": null,
   "id": "9e361da5",
   "metadata": {
    "papermill": {
     "duration": 0.002701,
     "end_time": "2025-06-10T22:18:17.567126",
     "exception": false,
     "start_time": "2025-06-10T22:18:17.564425",
     "status": "completed"
    },
    "tags": []
   },
   "outputs": [],
   "source": []
  }
 ],
 "metadata": {
  "kernelspec": {
   "display_name": "base",
   "language": "python",
   "name": "python3"
  },
  "language_info": {
   "codemirror_mode": {
    "name": "ipython",
    "version": 3
   },
   "file_extension": ".py",
   "mimetype": "text/x-python",
   "name": "python",
   "nbconvert_exporter": "python",
   "pygments_lexer": "ipython3",
   "version": "3.10.12"
  },
  "papermill": {
   "default_parameters": {},
   "duration": 0.858123,
   "end_time": "2025-06-10T22:18:17.686314",
   "environment_variables": {},
   "exception": null,
   "input_path": "/tmp/tmp0nyg8z21/notebook.ipynb",
   "output_path": "/tmp/tmp0nyg8z21/reports/output.ipynb",
   "parameters": {
    "parameters": {
     "x": 2,
     "y": 3
    },
    "reports_dir": "/tmp/tmp0nyg8z21/reports"
   },
   "start_time": "2025-06-10T22:18:16.828191",
   "version": "2.3.3"
  }
 },
 "nbformat": 4,
 "nbformat_minor": 5
}