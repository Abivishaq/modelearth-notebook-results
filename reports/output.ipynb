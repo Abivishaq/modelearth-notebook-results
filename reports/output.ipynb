{
 "cells": [
  {
   "cell_type": "code",
   "execution_count": 1,
   "id": "c9d5d964",
   "metadata": {
    "execution": {
     "iopub.execute_input": "2025-06-10T22:14:27.596551Z",
     "iopub.status.busy": "2025-06-10T22:14:27.596111Z",
     "iopub.status.idle": "2025-06-10T22:14:27.607491Z",
     "shell.execute_reply": "2025-06-10T22:14:27.606553Z"
    },
    "papermill": {
     "duration": 0.023792,
     "end_time": "2025-06-10T22:14:27.609689",
     "exception": false,
     "start_time": "2025-06-10T22:14:27.585897",
     "status": "completed"
    },
    "tags": [
     "injected-parameters"
    ]
   },
   "outputs": [],
   "source": [
    "# Parameters\n",
    "reports_dir = \"/tmp/tmpomp_i5w7/reports\"\n",
    "parameters = {\"x\": 1, \"y\": 2}\n"
   ]
  },
  {
   "cell_type": "code",
   "execution_count": 2,
   "id": "5748f450",
   "metadata": {
    "execution": {
     "iopub.execute_input": "2025-06-10T22:14:27.621978Z",
     "iopub.status.busy": "2025-06-10T22:14:27.621819Z",
     "iopub.status.idle": "2025-06-10T22:14:27.624786Z",
     "shell.execute_reply": "2025-06-10T22:14:27.624317Z"
    },
    "papermill": {
     "duration": 0.008784,
     "end_time": "2025-06-10T22:14:27.625745",
     "exception": false,
     "start_time": "2025-06-10T22:14:27.616961",
     "status": "completed"
    },
    "tags": []
   },
   "outputs": [
    {
     "name": "stdout",
     "output_type": "stream",
     "text": [
      "1 raised to the power of 2 is 2\n"
     ]
    }
   ],
   "source": [
    "x=parameters[\"x\"]\n",
    "y=parameters[\"y\"]\n",
    "\n",
    "result= x*y\n",
    "print(f\"{x} raised to the power of {y} is {result}\")"
   ]
  },
  {
   "cell_type": "code",
   "execution_count": 3,
   "id": "b6413879",
   "metadata": {
    "execution": {
     "iopub.execute_input": "2025-06-10T22:14:27.631918Z",
     "iopub.status.busy": "2025-06-10T22:14:27.631784Z",
     "iopub.status.idle": "2025-06-10T22:14:27.634992Z",
     "shell.execute_reply": "2025-06-10T22:14:27.634638Z"
    },
    "papermill": {
     "duration": 0.007137,
     "end_time": "2025-06-10T22:14:27.635814",
     "exception": false,
     "start_time": "2025-06-10T22:14:27.628677",
     "status": "completed"
    },
    "tags": []
   },
   "outputs": [
    {
     "name": "stdout",
     "output_type": "stream",
     "text": [
      "Current working directory: /home/abivishaq/projects/modelEarth/modelearth-cloud/run\n"
     ]
    }
   ],
   "source": [
    "import os\n",
    "print(\"Current working directory:\", os.getcwd())\n",
    "output_path = os.path.join(reports_dir, \"output.txt\")\n",
    "f = open(output_path, \"w\")\n",
    "f.write(f\"{x} raised to the power of {y} is {result}\\n\")\n",
    "f.close()"
   ]
  },
  {
   "cell_type": "code",
   "execution_count": null,
   "id": "9e361da5",
   "metadata": {
    "papermill": {
     "duration": 0.002897,
     "end_time": "2025-06-10T22:14:27.641534",
     "exception": false,
     "start_time": "2025-06-10T22:14:27.638637",
     "status": "completed"
    },
    "tags": []
   },
   "outputs": [],
   "source": []
  }
 ],
 "metadata": {
  "kernelspec": {
   "display_name": "base",
   "language": "python",
   "name": "python3"
  },
  "language_info": {
   "codemirror_mode": {
    "name": "ipython",
    "version": 3
   },
   "file_extension": ".py",
   "mimetype": "text/x-python",
   "name": "python",
   "nbconvert_exporter": "python",
   "pygments_lexer": "ipython3",
   "version": "3.10.12"
  },
  "papermill": {
   "default_parameters": {},
   "duration": 1.023839,
   "end_time": "2025-06-10T22:14:27.762509",
   "environment_variables": {},
   "exception": null,
   "input_path": "/tmp/tmpomp_i5w7/notebook.ipynb",
   "output_path": "/tmp/tmpomp_i5w7/reports/output.ipynb",
   "parameters": {
    "parameters": {
     "x": 1,
     "y": 2
    },
    "reports_dir": "/tmp/tmpomp_i5w7/reports"
   },
   "start_time": "2025-06-10T22:14:26.738670",
   "version": "2.3.3"
  }
 },
 "nbformat": 4,
 "nbformat_minor": 5
}